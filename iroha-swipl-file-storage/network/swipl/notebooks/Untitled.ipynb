{
 "cells": [
  {
   "cell_type": "code",
   "execution_count": 19,
   "id": "61e08269",
   "metadata": {},
   "outputs": [
    {
     "name": "stdout",
     "output_type": "stream",
     "text": [
      "SET ENV TIMESTAMPING=1\n",
      "SET ENV BLOCKCHAIN_LOGGING=1\n",
      "SET ENV LOGGING_LEVEL=20"
     ]
    }
   ],
   "source": [
    "%ENV\n",
    "TIMESTAMPING=1\n",
    "BLOCKCHAIN_LOGGING=1\n",
    "LOGGING_LEVEL=20"
   ]
  },
  {
   "cell_type": "code",
   "execution_count": 26,
   "id": "ed70fb2a",
   "metadata": {},
   "outputs": [
    {
     "name": "stdout",
     "output_type": "stream",
     "text": [
      "File: foobar.pl\n",
      "Timestamp: 1638833017228286873\n",
      "Hash: 6c57446aa227a998d4352d3a04b1b3c2\n",
      "Iroha Response: COMMITTED"
     ]
    }
   ],
   "source": [
    "%file: foobar.pl\n",
    "\n",
    "man(socrates).\n",
    "man(hayden).\n",
    "mortal(X) :- man(X)."
   ]
  },
  {
   "cell_type": "code",
   "execution_count": 27,
   "id": "9c8152bf",
   "metadata": {},
   "outputs": [
    {
     "name": "stdout",
     "output_type": "stream",
     "text": [
      "true.\n",
      "X = socrates ;\n",
      "X = hayden .\n",
      "false."
     ]
    }
   ],
   "source": [
    "?- mortal(socrates).\n",
    "?- mortal(X).\n",
    "?- mortal(bob)."
   ]
  },
  {
   "cell_type": "code",
   "execution_count": 24,
   "id": "e94e562f",
   "metadata": {},
   "outputs": [
    {
     "name": "stdout",
     "output_type": "stream",
     "text": [
      "File: check.pl\n",
      "Timestamp: 1638833013964001485\n",
      "Hash: 3a5a7893e1f78687303e5965ffb9a09d\n",
      "Iroha Response: COMMITTED"
     ]
    }
   ],
   "source": [
    "%file: check.pl\n",
    "\n",
    "man(hayden)."
   ]
  }
 ],
 "metadata": {
  "kernelspec": {
   "display_name": "SWI-Prolog",
   "language": "",
   "name": "swi-kernel"
  },
  "language_info": {
   "mimetype": "text/plain",
   "name": "swipl"
  }
 },
 "nbformat": 4,
 "nbformat_minor": 5
}
