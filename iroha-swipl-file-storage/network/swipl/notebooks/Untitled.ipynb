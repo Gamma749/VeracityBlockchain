{
 "cells": [
  {
   "cell_type": "code",
   "execution_count": 1,
   "id": "ed70fb2a",
   "metadata": {},
   "outputs": [
    {
     "name": "stdout",
     "output_type": "stream",
     "text": [
      "File: foo.pl\n",
      "Timestamp: 1638398039235515490\n",
      "Hash: c8f38944ec87a38909664eb0a594f3b2"
     ]
    }
   ],
   "source": [
    "%file: foo.pl\n",
    "\n",
    "man(socrates).\n",
    "mortal(X) :- man(X)."
   ]
  },
  {
   "cell_type": "code",
   "execution_count": 2,
   "id": "9c8152bf",
   "metadata": {},
   "outputs": [
    {
     "name": "stdout",
     "output_type": "stream",
     "text": [
      "true.\n",
      "X = socrates .\n",
      "false."
     ]
    }
   ],
   "source": [
    "?- mortal(socrates).\n",
    "?- mortal(X).\n",
    "?- mortal(bob)."
   ]
  },
  {
   "cell_type": "code",
   "execution_count": 3,
   "id": "e94e562f",
   "metadata": {},
   "outputs": [
    {
     "name": "stdout",
     "output_type": "stream",
     "text": [
      "File: check.pl\n",
      "Timestamp: 1638398041809060972\n",
      "Hash: bb91bcbc15bd37d4e8f1717296e78b20"
     ]
    }
   ],
   "source": [
    "%file: check.pl\n",
    "\n",
    "man(hayden)."
   ]
  }
 ],
 "metadata": {
  "kernelspec": {
   "display_name": "SWI-Prolog",
   "language": "",
   "name": "swi-kernel"
  },
  "language_info": {
   "mimetype": "text/plain",
   "name": "swipl"
  }
 },
 "nbformat": 4,
 "nbformat_minor": 5
}
