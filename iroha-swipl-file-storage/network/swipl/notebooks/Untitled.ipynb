{
 "cells": [
  {
   "cell_type": "code",
   "execution_count": 9,
   "id": "61e08269",
   "metadata": {},
   "outputs": [
    {
     "name": "stdout",
     "output_type": "stream",
     "text": [
      "SET ENV TIMESTAMPING=1\n",
      "SET ENV BLOCKCHAIN_LOGGING=1\n",
      "SET ENV LOGGING_LEVEL=20"
     ]
    }
   ],
   "source": [
    "%ENV\n",
    "TIMESTAMPING=1\n",
    "BLOCKCHAIN_LOGGING=1\n",
    "LOGGING_LEVEL=20"
   ]
  },
  {
   "cell_type": "code",
   "execution_count": 10,
   "id": "ed70fb2a",
   "metadata": {},
   "outputs": [
    {
     "name": "stdout",
     "output_type": "stream",
     "text": [
      "File: foo.pl\n",
      "Timestamp: 1638486345160680028\n",
      "Hash: 87bf481d0111564f8bf823961f8983ae\n",
      "Iroha Response: COMMITTED"
     ]
    }
   ],
   "source": [
    "%file: foo.pl\n",
    "\n",
    "man(socrates).\n",
    "man(hayden).\n",
    "mortal(X) :- man(X)."
   ]
  },
  {
   "cell_type": "code",
   "execution_count": 11,
   "id": "9c8152bf",
   "metadata": {},
   "outputs": [
    {
     "name": "stdout",
     "output_type": "stream",
     "text": [
      "true.\n",
      "X = socrates ;\n",
      "X = hayden .\n",
      "false."
     ]
    }
   ],
   "source": [
    "?- mortal(socrates).\n",
    "?- mortal(X).\n",
    "?- mortal(bob)."
   ]
  },
  {
   "cell_type": "code",
   "execution_count": 12,
   "id": "e94e562f",
   "metadata": {},
   "outputs": [
    {
     "name": "stdout",
     "output_type": "stream",
     "text": [
      "File: check.pl\n",
      "Timestamp: 1638486347896574659\n",
      "Hash: 7c79ae294a15f4f4c8da958622824550\n",
      "Iroha Response: COMMITTED"
     ]
    }
   ],
   "source": [
    "%file: check.pl\n",
    "\n",
    "man(hayden)."
   ]
  }
 ],
 "metadata": {
  "kernelspec": {
   "display_name": "SWI-Prolog",
   "language": "",
   "name": "swi-kernel"
  },
  "language_info": {
   "mimetype": "text/plain",
   "name": "swipl"
  }
 },
 "nbformat": 4,
 "nbformat_minor": 5
}
