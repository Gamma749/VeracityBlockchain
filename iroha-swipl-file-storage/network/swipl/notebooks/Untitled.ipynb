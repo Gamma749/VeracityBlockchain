{
 "cells": [
  {
   "cell_type": "code",
   "execution_count": 4,
   "id": "ed70fb2a",
   "metadata": {},
   "outputs": [
    {
     "name": "stdout",
     "output_type": "stream",
     "text": [
      "File: foo.pl\n",
      "Timestamp: 1638402121774505987\n",
      "Hash: b3fb46b1f48439241cd04eaec38d89c9\n",
      "Iroha Response: COMMITTED"
     ]
    }
   ],
   "source": [
    "%file: foo.pl\n",
    "\n",
    "man(socrates).\n",
    "mortal(X) :- man(X)."
   ]
  },
  {
   "cell_type": "code",
   "execution_count": 5,
   "id": "9c8152bf",
   "metadata": {},
   "outputs": [
    {
     "name": "stdout",
     "output_type": "stream",
     "text": [
      "true.\n",
      "X = socrates .\n",
      "false."
     ]
    }
   ],
   "source": [
    "?- mortal(socrates).\n",
    "?- mortal(X).\n",
    "?- mortal(bob)."
   ]
  },
  {
   "cell_type": "code",
   "execution_count": 2,
   "id": "e94e562f",
   "metadata": {},
   "outputs": [
    {
     "name": "stdout",
     "output_type": "stream",
     "text": [
      "File: check.pl\n",
      "Timestamp: 1638402118989051393\n",
      "Hash: a8e8fe5398622059b60430019f03fe93\n",
      "Iroha Response: COMMITTED"
     ]
    }
   ],
   "source": [
    "%file: check.pl\n",
    "\n",
    "man(hayden)."
   ]
  }
 ],
 "metadata": {
  "kernelspec": {
   "display_name": "SWI-Prolog",
   "language": "",
   "name": "swi-kernel"
  },
  "language_info": {
   "mimetype": "text/plain",
   "name": "swipl"
  }
 },
 "nbformat": 4,
 "nbformat_minor": 5
}
