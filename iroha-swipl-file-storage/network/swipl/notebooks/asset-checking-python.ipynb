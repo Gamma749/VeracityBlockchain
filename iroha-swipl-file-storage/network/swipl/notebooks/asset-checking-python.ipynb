{
 "cells": [
  {
   "cell_type": "code",
   "execution_count": 1,
   "id": "d94437b6",
   "metadata": {},
   "outputs": [
    {
     "ename": "UnboundLocalError",
     "evalue": "local variable 'commands' referenced before assignment",
     "output_type": "error",
     "traceback": [
      "\u001b[0;31m---------------------------------------------------------------------------\u001b[0m",
      "\u001b[0;31mUnboundLocalError\u001b[0m                         Traceback (most recent call last)",
      "\u001b[0;32m/tmp/ipykernel_46/4108018033.py\u001b[0m in \u001b[0;36m<module>\u001b[0;34m\u001b[0m\n\u001b[1;32m      5\u001b[0m     \u001b[0muser\u001b[0m \u001b[0;34m=\u001b[0m \u001b[0mpickle\u001b[0m\u001b[0;34m.\u001b[0m\u001b[0mload\u001b[0m\u001b[0;34m(\u001b[0m\u001b[0muser_data\u001b[0m\u001b[0;34m)\u001b[0m\u001b[0;34m\u001b[0m\u001b[0;34m\u001b[0m\u001b[0m\n\u001b[1;32m      6\u001b[0m \u001b[0;34m\u001b[0m\u001b[0m\n\u001b[0;32m----> 7\u001b[0;31m \u001b[0mcustodian\u001b[0m \u001b[0;34m=\u001b[0m \u001b[0mIrohaHashCustodian\u001b[0m\u001b[0;34m(\u001b[0m\u001b[0;34m)\u001b[0m\u001b[0;34m\u001b[0m\u001b[0;34m\u001b[0m\u001b[0m\n\u001b[0m",
      "\u001b[0;32m/setup/IrohaUtils/IrohaUtils.py\u001b[0m in \u001b[0;36mtracer\u001b[0;34m(*args, **kwargs)\u001b[0m\n\u001b[1;32m     53\u001b[0m         \u001b[0mname\u001b[0m \u001b[0;34m=\u001b[0m \u001b[0mfunc\u001b[0m\u001b[0;34m.\u001b[0m\u001b[0m__name__\u001b[0m\u001b[0;34m\u001b[0m\u001b[0;34m\u001b[0m\u001b[0m\n\u001b[1;32m     54\u001b[0m         \u001b[0mlogging\u001b[0m\u001b[0;34m.\u001b[0m\u001b[0mdebug\u001b[0m\u001b[0;34m(\u001b[0m\u001b[0;34mf'{bcolors.HEADER}==> Entering \"{name}\"{bcolors.ENDC}'\u001b[0m\u001b[0;34m)\u001b[0m\u001b[0;34m\u001b[0m\u001b[0;34m\u001b[0m\u001b[0m\n\u001b[0;32m---> 55\u001b[0;31m         \u001b[0mresult\u001b[0m \u001b[0;34m=\u001b[0m \u001b[0mfunc\u001b[0m\u001b[0;34m(\u001b[0m\u001b[0;34m*\u001b[0m\u001b[0margs\u001b[0m\u001b[0;34m,\u001b[0m \u001b[0;34m**\u001b[0m\u001b[0mkwargs\u001b[0m\u001b[0;34m)\u001b[0m\u001b[0;34m\u001b[0m\u001b[0;34m\u001b[0m\u001b[0m\n\u001b[0m\u001b[1;32m     56\u001b[0m         \u001b[0mlogging\u001b[0m\u001b[0;34m.\u001b[0m\u001b[0mdebug\u001b[0m\u001b[0;34m(\u001b[0m\u001b[0;34mf'{bcolors.HEADER}==> Leaving \"{name}\"{bcolors.ENDC}'\u001b[0m\u001b[0;34m)\u001b[0m\u001b[0;34m\u001b[0m\u001b[0;34m\u001b[0m\u001b[0m\n\u001b[1;32m     57\u001b[0m         \u001b[0;32mreturn\u001b[0m \u001b[0mresult\u001b[0m\u001b[0;34m\u001b[0m\u001b[0;34m\u001b[0m\u001b[0m\n",
      "\u001b[0;32m/setup/IrohaUtils/IrohaUtils.py\u001b[0m in \u001b[0;36m__init__\u001b[0;34m(self)\u001b[0m\n\u001b[1;32m    262\u001b[0m             ]\n\u001b[1;32m    263\u001b[0m         tx = IrohaCrypto.sign_transaction(\n\u001b[0;32m--> 264\u001b[0;31m             iroha_admin.transaction(commands), ADMIN_PRIVATE_KEY)\n\u001b[0m\u001b[1;32m    265\u001b[0m         \u001b[0mlogging\u001b[0m\u001b[0;34m.\u001b[0m\u001b[0mdebug\u001b[0m\u001b[0;34m(\u001b[0m\u001b[0mtx\u001b[0m\u001b[0;34m)\u001b[0m\u001b[0;34m\u001b[0m\u001b[0;34m\u001b[0m\u001b[0m\n\u001b[1;32m    266\u001b[0m         \u001b[0mstatus\u001b[0m \u001b[0;34m=\u001b[0m \u001b[0msend_transaction\u001b[0m\u001b[0;34m(\u001b[0m\u001b[0mtx\u001b[0m\u001b[0;34m,\u001b[0m \u001b[0mnet_1\u001b[0m\u001b[0;34m)\u001b[0m\u001b[0;34m\u001b[0m\u001b[0;34m\u001b[0m\u001b[0m\n",
      "\u001b[0;31mUnboundLocalError\u001b[0m: local variable 'commands' referenced before assignment"
     ]
    }
   ],
   "source": [
    "from IrohaUtils import *\n",
    "import pickle\n",
    "\n",
    "with open(\"/notebooks/iroha_connection/user_data.pkl\", \"rb\") as user_data:\n",
    "    user = pickle.load(user_data)\n",
    "    \n",
    "custodian = IrohaHashCustodian()"
   ]
  },
  {
   "cell_type": "code",
   "execution_count": 6,
   "id": "a5ab9cf4-5f14-4d32-b5cc-65201983df4d",
   "metadata": {},
   "outputs": [
    {
     "data": {
      "text/plain": [
       "[{'height': 4,\n",
       "  'hash': '37f381fa8203f1bacedfcbed8fa323b9',\n",
       "  'domain': 'swipluser-foobar',\n",
       "  'creator_id': 'swipluser@hashing',\n",
       "  'time': 1638844284032},\n",
       " {'height': 6,\n",
       "  'hash': '64d278de44d93c14f65dc9cd627f73c8',\n",
       "  'domain': 'swipluser-foobar',\n",
       "  'creator_id': 'swipluser@hashing',\n",
       "  'time': 1638844305145}]"
      ]
     },
     "execution_count": 6,
     "metadata": {},
     "output_type": "execute_result"
    }
   ],
   "source": [
    "custodian.get_domain_assets(user, domain_name=user[\"name\"]+\"-\"+\"foobar\")"
   ]
  },
  {
   "cell_type": "code",
   "execution_count": 4,
   "id": "f88f579d-9a53-4c40-8920-a5b2794e183f",
   "metadata": {},
   "outputs": [],
   "source": [
    "import IrohaUtils"
   ]
  },
  {
   "cell_type": "code",
   "execution_count": 5,
   "id": "910fcea2-9990-4aec-8bee-2525b9c3f3c9",
   "metadata": {},
   "outputs": [
    {
     "data": {
      "text/plain": [
       "['ADMIN_ACCOUNT_ID',\n",
       " 'ADMIN_PRIVATE_KEY',\n",
       " 'Default',\n",
       " 'IROHA_HOST_ADDR_1',\n",
       " 'IROHA_HOST_ADDR_2',\n",
       " 'IROHA_HOST_ADDR_3',\n",
       " 'IROHA_HOST_ADDR_4',\n",
       " 'IROHA_PORT_1',\n",
       " 'IROHA_PORT_2',\n",
       " 'IROHA_PORT_3',\n",
       " 'IROHA_PORT_4',\n",
       " 'Iroha',\n",
       " 'IrohaCrypto',\n",
       " 'IrohaGrpc',\n",
       " 'IrohaHashCustodian',\n",
       " 'Path',\n",
       " '__builtins__',\n",
       " '__cached__',\n",
       " '__doc__',\n",
       " '__file__',\n",
       " '__loader__',\n",
       " '__name__',\n",
       " '__package__',\n",
       " '__spec__',\n",
       " 'admin_create_domain',\n",
       " 'bcolors',\n",
       " 'binascii',\n",
       " 'get_all_blocks',\n",
       " 'get_block',\n",
       " 'hashlib',\n",
       " 'iroha_admin',\n",
       " 'log_all_blocks',\n",
       " 'logging',\n",
       " 'net_1',\n",
       " 'net_2',\n",
       " 'net_3',\n",
       " 'net_4',\n",
       " 'new_user',\n",
       " 'os',\n",
       " 'primitive_pb2',\n",
       " 're',\n",
       " 'send_batch',\n",
       " 'send_transaction',\n",
       " 'trace']"
      ]
     },
     "execution_count": 5,
     "metadata": {},
     "output_type": "execute_result"
    }
   ],
   "source": [
    "dir(IrohaUtils)"
   ]
  }
 ],
 "metadata": {
  "kernelspec": {
   "display_name": "Python 3 (ipykernel)",
   "language": "python",
   "name": "python3"
  },
  "language_info": {
   "codemirror_mode": {
    "name": "ipython",
    "version": 3
   },
   "file_extension": ".py",
   "mimetype": "text/x-python",
   "name": "python",
   "nbconvert_exporter": "python",
   "pygments_lexer": "ipython3",
   "version": "3.9.2"
  }
 },
 "nbformat": 4,
 "nbformat_minor": 5
}
