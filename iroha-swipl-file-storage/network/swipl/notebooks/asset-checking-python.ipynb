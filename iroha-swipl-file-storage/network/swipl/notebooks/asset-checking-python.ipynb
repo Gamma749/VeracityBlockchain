{
 "cells": [
  {
   "cell_type": "code",
   "execution_count": 5,
   "id": "d94437b6",
   "metadata": {},
   "outputs": [],
   "source": [
    "from IrohaUtils import *\n",
    "import pickle\n",
    "\n",
    "with open(\"/notebooks/iroha_connection/user_data.pkl\", \"rb\") as user_data:\n",
    "    user = pickle.load(user_data)\n",
    "    \n",
    "custodian = IrohaHashCustodian()"
   ]
  },
  {
   "cell_type": "code",
   "execution_count": 6,
   "id": "a5ab9cf4-5f14-4d32-b5cc-65201983df4d",
   "metadata": {},
   "outputs": [
    {
     "data": {
      "text/plain": [
       "[{'height': 4,\n",
       "  'hash': '37f381fa8203f1bacedfcbed8fa323b9',\n",
       "  'domain': 'swipluser-foobar',\n",
       "  'creator_id': 'swipluser@hashing',\n",
       "  'time': 1638844284032},\n",
       " {'height': 6,\n",
       "  'hash': '64d278de44d93c14f65dc9cd627f73c8',\n",
       "  'domain': 'swipluser-foobar',\n",
       "  'creator_id': 'swipluser@hashing',\n",
       "  'time': 1638844305145}]"
      ]
     },
     "execution_count": 6,
     "metadata": {},
     "output_type": "execute_result"
    }
   ],
   "source": [
    "custodian.get_domain_assets(user, domain_name=user[\"name\"]+\"-\"+\"foobar\")"
   ]
  }
 ],
 "metadata": {
  "kernelspec": {
   "display_name": "Python 3 (ipykernel)",
   "language": "python",
   "name": "python3"
  },
  "language_info": {
   "codemirror_mode": {
    "name": "ipython",
    "version": 3
   },
   "file_extension": ".py",
   "mimetype": "text/x-python",
   "name": "python",
   "nbconvert_exporter": "python",
   "pygments_lexer": "ipython3",
   "version": "3.9.2"
  }
 },
 "nbformat": 4,
 "nbformat_minor": 5
}
