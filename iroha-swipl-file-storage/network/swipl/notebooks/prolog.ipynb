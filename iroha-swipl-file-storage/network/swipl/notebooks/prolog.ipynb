{
 "cells": [
  {
   "cell_type": "code",
   "execution_count": 1,
   "id": "61e08269",
   "metadata": {},
   "outputs": [
    {
     "name": "stdout",
     "output_type": "stream",
     "text": [
      "SET ENV TIMESTAMPING=1\n",
      "SET ENV BLOCKCHAIN_LOGGING=1\n",
      "SET ENV LOGGING_LEVEL=20"
     ]
    }
   ],
   "source": [
    "%ENV\n",
    "TIMESTAMPING=1\n",
    "BLOCKCHAIN_LOGGING=1\n",
    "LOGGING_LEVEL=20"
   ]
  },
  {
   "cell_type": "code",
   "execution_count": 3,
   "id": "ed70fb2a",
   "metadata": {},
   "outputs": [
    {
     "name": "stdout",
     "output_type": "stream",
     "text": [
      "File: foobar.pl\n",
      "Timestamp: 1638844303187072370\n",
      "Hash: 64d278de44d93c14f65dc9cd627f73c8\n",
      "Domain: swipluser-foobar\n",
      "Iroha Response: COMMITTED"
     ]
    }
   ],
   "source": [
    "%file: foobar.pl\n",
    "\n",
    "man(socrates).\n",
    "man(hayden).\n",
    "mortal(X) :- man(X)."
   ]
  },
  {
   "cell_type": "code",
   "execution_count": 5,
   "id": "9c8152bf",
   "metadata": {},
   "outputs": [
    {
     "name": "stdout",
     "output_type": "stream",
     "text": [
      "true.\n",
      "X = socrates ;\n",
      "X = hayden .\n",
      "false."
     ]
    }
   ],
   "source": [
    "%file: query.pl\n",
    "\n",
    "?- mortal(socrates).\n",
    "?- mortal(X).\n",
    "?- mortal(bob)."
   ]
  }
 ],
 "metadata": {
  "kernelspec": {
   "display_name": "SWI-Prolog",
   "language": "",
   "name": "swi-kernel"
  },
  "language_info": {
   "mimetype": "text/plain",
   "name": "swipl"
  }
 },
 "nbformat": 4,
 "nbformat_minor": 5
}
